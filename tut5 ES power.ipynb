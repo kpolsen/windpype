{
 "cells": [
  {
   "cell_type": "markdown",
   "metadata": {},
   "source": [
    "# Flexibility needs: Power (ramps)"
   ]
  },
  {
   "cell_type": "code",
   "execution_count": 1,
   "metadata": {},
   "outputs": [
    {
     "name": "stdout",
     "output_type": "stream",
     "text": [
      "windpype submodule \"power\" imported\n",
      "windpype submodule \"aux\" imported\n",
      "windpype submodule \"capacity\" imported\n",
      "windpype module import complete\n"
     ]
    }
   ],
   "source": [
    "import numpy as np\n",
    "import pandas as pd\n",
    "import windpype as wp\n",
    "import matplotlib.pyplot as plt\n",
    "import matplotlib as mpl\n",
    "import matplotlib.cm as cm"
   ]
  },
  {
   "cell_type": "code",
   "execution_count": 2,
   "metadata": {},
   "outputs": [
    {
     "name": "stdout",
     "output_type": "stream",
     "text": [
      "No method set for combining, will look for passed dataframe\n",
      "No dataframe given, will look for saved file\n",
      "Restored dataframe\n",
      "\n",
      "--------\n",
      "Data object contains:\n",
      "67920 data points\n",
      "from 2011-01-01 00:00:00 to 2018-09-30 23:00:00\n",
      "Minimum time step: 3600.0 sec\n",
      "Maximum time step: 3600.0 sec\n",
      "Most common time step: 3600.0 sec\n",
      "--------\n",
      "\n",
      " Now calculating fluctuations during all epochs!\n",
      "Relative amount of energy in each frequency interval:\n",
      "For frequency interval: 1.39e-05 to 5.56e-04 Hz: 1.98e+06 MWh\n",
      "6.4 % of integrated energy across all frequencies\n",
      "For frequency interval: 5.79e-06 to 1.39e-05 Hz: 3.40e+06 MWh\n",
      "11.0 % of integrated energy across all frequencies\n",
      "For frequency interval: 8.27e-07 to 5.79e-06 Hz: 5.59e+06 MWh\n",
      "18.1 % of integrated energy across all frequencies\n",
      "For frequency interval: 6.43e-08 to 8.27e-07 Hz: 4.23e+06 MWh\n",
      "13.7 % of integrated energy across all frequencies\n",
      "For frequency interval: 1.59e-08 to 6.43e-08 Hz: 3.84e+06 MWh\n",
      "12.5 % of integrated energy across all frequencies\n",
      "For frequency interval: 0.00e+00 to 1.59e-08 Hz: 1.18e+07 MWh\n",
      "38.2 % of integrated energy across all frequencies\n",
      "------\n",
      "\n",
      " Now calculating fluctuations during all epochs!\n",
      "Relative amount of energy in each frequency interval:\n",
      "For frequency interval: 1.39e-05 to 5.56e-04 Hz: 1.40e+06 MWh\n",
      "6.9 % of integrated energy across all frequencies\n",
      "For frequency interval: 5.79e-06 to 1.39e-05 Hz: 2.37e+06 MWh\n",
      "11.7 % of integrated energy across all frequencies\n",
      "For frequency interval: 8.27e-07 to 5.79e-06 Hz: 4.34e+06 MWh\n",
      "21.4 % of integrated energy across all frequencies\n",
      "For frequency interval: 6.43e-08 to 8.27e-07 Hz: 3.16e+06 MWh\n",
      "15.6 % of integrated energy across all frequencies\n",
      "For frequency interval: 1.59e-08 to 6.43e-08 Hz: 2.34e+06 MWh\n",
      "11.6 % of integrated energy across all frequencies\n",
      "For frequency interval: 0.00e+00 to 1.59e-08 Hz: 6.64e+06 MWh\n",
      "32.8 % of integrated energy across all frequencies\n",
      "------\n",
      "\n",
      " Now calculating fluctuations during all epochs!\n",
      "Relative amount of energy in each frequency interval:\n",
      "For frequency interval: 1.39e-05 to 5.56e-04 Hz: 7.22e+05 MWh\n",
      "6.3 % of integrated energy across all frequencies\n",
      "For frequency interval: 5.79e-06 to 1.39e-05 Hz: 1.28e+06 MWh\n",
      "11.3 % of integrated energy across all frequencies\n",
      "For frequency interval: 8.27e-07 to 5.79e-06 Hz: 1.40e+06 MWh\n",
      "12.3 % of integrated energy across all frequencies\n",
      "For frequency interval: 6.43e-08 to 8.27e-07 Hz: 1.17e+06 MWh\n",
      "10.3 % of integrated energy across all frequencies\n",
      "For frequency interval: 1.59e-08 to 6.43e-08 Hz: 1.65e+06 MWh\n",
      "14.5 % of integrated energy across all frequencies\n",
      "For frequency interval: 0.00e+00 to 1.59e-08 Hz: 5.15e+06 MWh\n",
      "45.3 % of integrated energy across all frequencies\n",
      "------\n"
     ]
    }
   ],
   "source": [
    "# SETUP FOR DK DATA\n",
    "file_path = \"data/\"\n",
    "power_cons_ob = wp.CombPowerData(file_path=file_path,file_name='DK1_DK2_power_cons_1hour')\n",
    "alpha_cuts = [20,80]\n",
    "colors = cm.rainbow(np.linspace(0, 1, 6))\n",
    "duration_cuts = 2*np.array([[0.25,10],[10,24],[24,7*24],[7*24,3*30*24],[3*30*24,365*24],[365*24,1e6]]) # hours\n",
    "freq_cuts = np.sort(1/duration_cuts/(60*60)) # Hz\n",
    "freq_cuts[freq_cuts == np.min(freq_cuts)] = 0\n",
    "freq_cuts_DK = freq_cuts\n",
    "N_freqs = len(freq_cuts)\n",
    "labels = ['< 10 hrs',\\\n",
    "          '10 - 24 hrs',\\\n",
    "          '24 hrs - 1 week',\\\n",
    "          '1 week - 3 months',\\\n",
    "          '3 months - 1 yr',\\\n",
    "          '> 1 yr']\n",
    "trl = 'TotalResLoad'\n",
    "trp = 'TotalRenPower'\n",
    "power_cons_ob.info()\n",
    "for ext in ['','_DK1','_DK2']:\n",
    "    fluctuations_all = power_cons_ob.GetFluctuations(\\\n",
    "            epoch=2,col_name=trl+ext,power_name=trp+ext,freq_cuts=freq_cuts,alpha_cuts=alpha_cuts)\n",
    "#     fluctuations_low = power_cons_ob.GetFluctuations(\\\n",
    "#             epoch=0,col_name=trl+ext,power_name=trp+ext,freq_cuts=freq_cuts,alpha_cuts=alpha_cuts)\n",
    "#     fluctuations_high = power_cons_ob.GetFluctuations(\\\n",
    "#             epoch=1,col_name=trl+ext,power_name=trp+ext,freq_cuts=freq_cuts,alpha_cuts=alpha_cuts)\n",
    "    if ext == '': fluctuations_all_DK = fluctuations_all\n",
    "    if ext == '_DK1': fluctuations_all_DK1 = fluctuations_all\n",
    "    if ext == '_DK2': fluctuations_all_DK2 = fluctuations_all\n",
    "        "
   ]
  },
  {
   "cell_type": "code",
   "execution_count": 3,
   "metadata": {
    "scrolled": false
   },
   "outputs": [
    {
     "name": "stdout",
     "output_type": "stream",
     "text": [
      "\n",
      "--------\n",
      "Data object contains:\n",
      "67920 data points\n",
      "from 2011-01-01 00:00:00 to 2018-09-30 23:00:00\n",
      "Minimum time step: 3600.0 sec\n",
      "Maximum time step: 3600.0 sec\n",
      "Most common time step: 3600.0 sec\n",
      "--------\n"
     ]
    },
    {
     "data": {
      "text/plain": [
       "(Timestamp('2011-01-01 00:00:00'), Timestamp('2018-09-30 23:00:00'))"
      ]
     },
     "execution_count": 3,
     "metadata": {},
     "output_type": "execute_result"
    }
   ],
   "source": [
    "power_cons_ob.info()"
   ]
  },
  {
   "cell_type": "markdown",
   "metadata": {},
   "source": [
    "## Plot ramp distributions"
   ]
  },
  {
   "cell_type": "code",
   "execution_count": 4,
   "metadata": {},
   "outputs": [
    {
     "name": "stdout",
     "output_type": "stream",
     "text": [
      "Using load: GrossCon\n",
      "Calculating penetration fraction for every time step\n",
      "------\n",
      "Penetration fraction is above 80% 13.67% of the time\n",
      "With 5989 data points\n",
      "Out of 67920 data points\n",
      "Min and maximum epoch durations of high penetration: 1.000000 and 100.000000 hrs\n",
      "Penetration fraction is below 20% 29.25% of the time\n",
      "With 12818 data points\n",
      "Out of 67920 data points\n",
      "Min and maximum epoch durations of low penetration: 1.000000 and 143.000000 hrs\n",
      "------\n",
      "Calculating hourly steps for TotalRenPower\n",
      "Now doing epoch 0\n",
      "Could not find values for 0, will look for supplied data\n",
      "Now doing epoch 1\n",
      "Could not find values for 0, will look for supplied data\n"
     ]
    },
    {
     "data": {
      "image/png": "[encoded data removed]",
      "text/plain": [
       "<Figure size 720x432 with 1 Axes>"
      ]
     },
     "metadata": {},
     "output_type": "display_data"
    }
   ],
   "source": [
    "# Compare actual hourly steps (not iDFTs) in different epochs\n",
    "ext = ''\n",
    "power_cons_ob.AddHighPenetrationIndex(alpha_cuts=alpha_cuts,power_name=trp+ext)\n",
    "power_cons_ob.AddHourlySteps(col_name=trp+ext,include_storms=True)\n",
    "power_cons_ob.CompEpochs(col_names=[trp+ext],colors=['r','g'],alpha=0.7,\\\n",
    "     ls=['-','-'],compare='hourly_raw_steps',bins=100,\\\n",
    "    fig_name='hourly_ramps_high_low_alpha'+ext,fig_format='png',xlab='Ramp in residual load [MW]')"
   ]
  },
  {
   "cell_type": "code",
   "execution_count": null,
   "metadata": {},
   "outputs": [],
   "source": [
    "# Variation in hourly ramps over past year\n",
    "col_names = ['TotalWindPower_DK2','TotalWindPower_DK1','TotalWindPower']\n",
    "time_cut = [np.datetime64('2017-10-01'),np.datetime64('2018-10-01')]\n",
    "STD = power_cons_ob.GetHourlyStepSTD(time_period='year',\\\n",
    "    col_names=col_names,time_cut=time_cut)\n",
    "STD"
   ]
  },
  {
   "cell_type": "code",
   "execution_count": null,
   "metadata": {
    "scrolled": false
   },
   "outputs": [],
   "source": [
    "fig = plt.figure(figsize=(10,7))\n",
    "ax1 = fig.add_subplot(1,1,1)\n",
    "ax1.set_xlabel('Approximate diameter of area [km]')\n",
    "ax1.set_ylabel('Standard deviation [% of capacity]')\n",
    "diameters =  [58, 90, 113] # see Map of wind turbines notebook\n",
    "mean_STD = len(diameters)*[0]\n",
    "colors=['cyan','royalblue','purple','magenta']\n",
    "for _,col_name in enumerate(col_names):\n",
    "    print(col_name)\n",
    "    STD_cut = STD[col_name].values[np.isnan(STD[col_name]) == False]\n",
    "    diameter = np.array([diameters[_]]*len(STD_cut))\n",
    "    ms = list(400*(STD.index[np.isnan(STD[col_name]) == False]-2011)/(2018-2011))\n",
    "    mean_STD[_] = np.mean(STD_cut)\n",
    "    ax1.scatter(diameter,STD_cut,s=ms,color=colors[_],alpha=0.6,label='Hourly Ramps of ' + wp.aux.pretty_label(col_name))\n",
    "# POWER LAW (optional)\n",
    "# def func_powerlaw(x, m, c, c0):\n",
    "#     return c0 + x**m * c\n",
    "# from scipy.optimize import curve_fit\n",
    "# popt, pcov = curve_fit(func_powerlaw, diameters, mean_STD)\n",
    "# X = np.arange(10,150)\n",
    "# ax1.plot(X, func_powerlaw(X, *popt), '--k',label='Power law fit')\n",
    "# LINEAR FIT\n",
    "from scipy.stats import linregress\n",
    "gradient, intercept, r_value, p_value, std_err = linregress(diameters, mean_STD)\n",
    "X = np.arange(10,150)\n",
    "ax1.plot(X, gradient*X+intercept, ':k',label='Linear fit')\n",
    "# LEGEND STUFF\n",
    "handles, labels = ax1.get_legend_handles_labels()\n",
    "handles = [ handles[i] for i in [1,2,3,0]]\n",
    "labels = [ labels[i] for i in [1,2,3,0]]\n",
    "lgnd = ax1.legend(handles=handles,labels=labels,fontsize=13)\n",
    "for handle in lgnd.legendHandles[0:-2]:\n",
    "    handle.set_sizes([40.0])\n",
    "# plt.savefig('../../plots/std_hourly_ramps.pdf',format='pdf',dpi=300)\n",
    "plt.savefig('../../plots/std_hourly_ramps.png',format='png',dpi=300)"
   ]
  },
  {
   "cell_type": "code",
   "execution_count": null,
   "metadata": {},
   "outputs": [],
   "source": []
  }
 ],
 "metadata": {
  "kernelspec": {
   "display_name": "Python 3",
   "language": "python",
   "name": "python3"
  },
  "language_info": {
   "codemirror_mode": {
    "name": "ipython",
    "version": 3
   },
   "file_extension": ".py",
   "mimetype": "text/x-python",
   "name": "python",
   "nbconvert_exporter": "python",
   "pygments_lexer": "ipython3",
   "version": "3.6.5"
  }
 },
 "nbformat": 4,
 "nbformat_minor": 2
}
