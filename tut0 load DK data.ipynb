{
 "cells": [
  {
   "cell_type": "markdown",
   "metadata": {},
   "source": [
    "# Load data from energinet.dk\n",
    "Contributors: Karen Olsen<br>\n",
    "Purpose: Load power generation and consumption in xml format, combine and save as dataframe.\n"
   ]
  },
  {
   "cell_type": "code",
   "execution_count": 1,
   "metadata": {},
   "outputs": [
    {
     "name": "stdout",
     "output_type": "stream",
     "text": [
      "windpype submodule \"power\" imported\n",
      "windpype submodule \"aux\" imported\n",
      "windpype submodule \"capacity\" imported\n",
      "windpype module import complete\n"
     ]
    }
   ],
   "source": [
    "import numpy as np\n",
    "import pandas as pd\n",
    "import matplotlib as mpl\n",
    "import matplotlib.pyplot as plt\n",
    "import xml.etree.ElementTree as ET \n",
    "import dateutil.parser\n",
    "import datetime as dt\n",
    "import windpype as wp"
   ]
  },
  {
   "cell_type": "markdown",
   "metadata": {},
   "source": [
    "## Load power production data, 1 hour resolution"
   ]
  },
  {
   "cell_type": "code",
   "execution_count": 2,
   "metadata": {},
   "outputs": [
    {
     "name": "stdout",
     "output_type": "stream",
     "text": [
      "Loading xml file at data/Energinet/1hour/Electricity_Balance_Data_2011-2018_DK1.xml\n",
      "Number of datapoints: 67919\n",
      "could not make column PriceArea into float, type: <class 'str'>\n",
      "made column OffshoreWindPower into float\n",
      "made column OnshoreWindPower into float\n",
      "could not make column SolarPower into float, type: <class 'str'>\n",
      "Loading xml file at data/Energinet/1hour/Electricity_Balance_Data_2011-2018_DK2.xml\n",
      "Number of datapoints: 67919\n",
      "could not make column PriceArea into float, type: <class 'str'>\n",
      "made column OffshoreWindPower into float\n",
      "made column OnshoreWindPower into float\n",
      "could not make column SolarPower into float, type: <class 'str'>\n",
      "Using method: append\n",
      "Length of dataframe 1: 67919\n",
      "Length of dataframe 2: 67919\n",
      "Combined data over common time period from 2011-01-01 00:00:00 to 2018-09-30 23:00:00\n",
      "135838 datapoints\n",
      "Replacing NULL in 0 places with 0 in OffshoreWindPower\n",
      "Replacing nans in 0 places with 0 in OffshoreWindPower\n"
     ]
    },
    {
     "name": "stderr",
     "output_type": "stream",
     "text": [
      "/home/karen/Projects/EPIMES/python/windpype_dev/windpype/power.py:2606: FutureWarning: elementwise comparison failed; returning scalar instead, but in the future will perform elementwise comparison\n",
      "  N_places = len(array[array == 'NULL'])\n",
      "/home/karen/Projects/EPIMES/python/windpype_dev/windpype/power.py:2612: FutureWarning: elementwise comparison failed; returning scalar instead, but in the future will perform elementwise comparison\n",
      "  array[array == 'NULL'] = 0\n"
     ]
    },
    {
     "name": "stdout",
     "output_type": "stream",
     "text": [
      "Replacing NULL in 0 places with 0 in OnshoreWindPower\n",
      "Replacing nans in 0 places with 0 in OnshoreWindPower\n",
      "Replacing NULL in 51936 places with 0 in SolarPower\n",
      "Replacing nans in 0 places with 0 in SolarPower\n"
     ]
    }
   ],
   "source": [
    "file_path = \"data/Energinet/1hour/\"\n",
    "power_ob1 = wp.PowerData() # for Electricity Balance Data\n",
    "df_cols1 = ['HourDK', 'PriceArea', 'OffshoreWindPower','OnshoreWindPower','SolarPower']\n",
    "col_indices1 = [1,2,6,7,10]\n",
    "raw_data_names1 = [\"Electricity_Balance_Data_2011-2018_DK1.xml\",\"Electricity_Balance_Data_2011-2018_DK2.xml\"]\n",
    "power_ob1.AddData(file_path=file_path,raw_data_names=raw_data_names1,df_cols=df_cols1,col_indices=col_indices1,\\\n",
    "                  time='HourDK')\n",
    "power_ob1.FillNansNULLS(col_name='OffshoreWindPower')\n",
    "power_ob1.FillNansNULLS(col_name='OnshoreWindPower')\n",
    "power_ob1.FillNansNULLS(col_name='SolarPower')"
   ]
  },
  {
   "cell_type": "code",
   "execution_count": 3,
   "metadata": {},
   "outputs": [
    {
     "name": "stdout",
     "output_type": "stream",
     "text": [
      "Added two new columns for OffshoreWindPower, with DK1 and DK2 partitions\n",
      "Added two new columns for OnshoreWindPower, with DK1 and DK2 partitions\n",
      "Added two new columns for SolarPower, with DK1 and DK2 partitions\n",
      "New dataframe has 67919 rows\n"
     ]
    }
   ],
   "source": [
    "power_ob1.SplitData('PriceArea','DK1','DK2')\n",
    "array = power_ob1.data_df['OnshoreWindPower'].values + power_ob1.data_df['OffshoreWindPower'].values\n",
    "power_ob1.AddColumnToData('TotalWindPower',array)\n",
    "array = power_ob1.data_df['OnshoreWindPower_DK1'].values + power_ob1.data_df['OffshoreWindPower_DK1'].values\n",
    "power_ob1.AddColumnToData('TotalWindPower_DK1',array)\n",
    "array = power_ob1.data_df['OnshoreWindPower_DK2'].values + power_ob1.data_df['OffshoreWindPower_DK2'].values\n",
    "power_ob1.AddColumnToData('TotalWindPower_DK2',array)\n",
    "array = power_ob1.data_df['OnshoreWindPower_DK1'].values + power_ob1.data_df['OnshoreWindPower_DK2'].values\n",
    "power_ob1.AddColumnToData('TotalOnshoreWindPower',array)\n",
    "array = power_ob1.data_df['OffshoreWindPower_DK1'].values + power_ob1.data_df['OffshoreWindPower_DK2'].values\n",
    "power_ob1.AddColumnToData('TotalOffshoreWindPower',array)\n",
    "# Renewable generation\n",
    "array = power_ob1.data_df['SolarPower'].values + power_ob1.data_df['TotalWindPower'].values\n",
    "power_ob1.AddColumnToData('TotalRenPower',array)\n",
    "array = power_ob1.data_df['SolarPower_DK1'].values + power_ob1.data_df['TotalWindPower_DK1'].values\n",
    "power_ob1.AddColumnToData('TotalRenPower_DK1',array)\n",
    "array = power_ob1.data_df['SolarPower_DK2'].values + power_ob1.data_df['TotalWindPower_DK2'].values\n",
    "power_ob1.AddColumnToData('TotalRenPower_DK2',array)"
   ]
  },
  {
   "cell_type": "code",
   "execution_count": 4,
   "metadata": {},
   "outputs": [
    {
     "name": "stdout",
     "output_type": "stream",
     "text": [
      "Replacing 0 values in TotalWindPower\n"
     ]
    },
    {
     "name": "stderr",
     "output_type": "stream",
     "text": [
      "/home/karen/Projects/EPIMES/python/windpype_dev/windpype/power.py:2573: SettingWithCopyWarning: \n",
      "A value is trying to be set on a copy of a slice from a DataFrame\n",
      "\n",
      "See the caveats in the documentation: http://pandas.pydata.org/pandas-docs/stable/indexing.html#indexing-view-versus-copy\n",
      "  data_df[key][list(indices_to_replace)] = (data_df[key][list(indices_to_replace-1)].values + data_df[key][list(indices_to_replace+1)].values)/2.\n"
     ]
    },
    {
     "name": "stdout",
     "output_type": "stream",
     "text": [
      "Found duplicates at:\n",
      "2011-10-30 02:00:00\n",
      "2012-10-28 02:00:00\n",
      "2013-10-27 02:00:00\n",
      "2014-10-26 02:00:00\n",
      "2015-10-25 02:00:00\n",
      "2016-10-30 02:00:00\n",
      "2017-10-29 02:00:00\n",
      "Replacing NULL in 0 places with 0 in TotalWindPower\n",
      "Replacing nans in 0 places with 0 in TotalWindPower\n"
     ]
    },
    {
     "name": "stderr",
     "output_type": "stream",
     "text": [
      "/home/karen/Projects/EPIMES/python/windpype_dev/windpype/power.py:2606: FutureWarning: elementwise comparison failed; returning scalar instead, but in the future will perform elementwise comparison\n",
      "  N_places = len(array[array == 'NULL'])\n",
      "/home/karen/Projects/EPIMES/python/windpype_dev/windpype/power.py:2612: FutureWarning: elementwise comparison failed; returning scalar instead, but in the future will perform elementwise comparison\n",
      "  array[array == 'NULL'] = 0\n"
     ]
    },
    {
     "name": "stdout",
     "output_type": "stream",
     "text": [
      "Replacing NULL in 0 places with 0 in SolarPower\n",
      "Replacing nans in 0 places with 0 in SolarPower\n"
     ]
    },
    {
     "name": "stderr",
     "output_type": "stream",
     "text": [
      "/home/karen/Projects/EPIMES/python/windpype_dev/windpype/power.py:2548: SettingWithCopyWarning: \n",
      "A value is trying to be set on a copy of a slice from a DataFrame\n",
      "\n",
      "See the caveats in the documentation: http://pandas.pydata.org/pandas-docs/stable/indexing.html#indexing-view-versus-copy\n",
      "  data_df_temp['datetime'][i] = new_datetime\n"
     ]
    },
    {
     "name": "stdout",
     "output_type": "stream",
     "text": [
      "Adding 18 new rows of data\n",
      "Using method: merge\n",
      "Length of dataframe 1: 67912\n",
      "Length of dataframe 2: 18\n",
      "Combined data over common time period from 2011-01-01 00:00:00 to 2018-09-30 23:00:00\n",
      "67920 datapoints\n",
      "\n",
      "--------\n",
      "Data object contains:\n",
      "67920 data points\n",
      "from 2011-01-01 00:00:00 to 2018-09-30 23:00:00\n",
      "Minimum time step: 3600.0 sec\n",
      "Maximum time step: 3600.0 sec\n",
      "Most common time step: 3600.0 sec\n",
      "--------\n"
     ]
    },
    {
     "data": {
      "text/plain": [
       "(Timestamp('2011-01-01 00:00:00'), Timestamp('2018-09-30 23:00:00'))"
      ]
     },
     "execution_count": 4,
     "metadata": {},
     "output_type": "execute_result"
    }
   ],
   "source": [
    "power_ob1.RemoveCrazyValues(col_name='TotalWindPower',method='above',value=10000)\n",
    "power_ob1.RemoveDuplicateTimes(col_name='TotalWindPower')\n",
    "power_ob1.FillNansNULLS(col_name='TotalWindPower')\n",
    "power_ob1.FillNansNULLS(col_name='SolarPower')\n",
    "power_ob1.FillInTimeSteps()\n",
    "wp.aux.SaveData(power_ob1.data_df,file_path='data/',file_name='DK1_DK2_power_1hour')\n",
    "power_ob1.info()"
   ]
  },
  {
   "cell_type": "markdown",
   "metadata": {},
   "source": [
    "## Add consumption data, 1 hour resolution"
   ]
  },
  {
   "cell_type": "code",
   "execution_count": 5,
   "metadata": {
    "scrolled": false
   },
   "outputs": [
    {
     "name": "stdout",
     "output_type": "stream",
     "text": [
      "Loading xml file at ../../data/Energinet/1hour/Electricity_Balance_Data_2013-2018.xml\n",
      "Number of datapoints: 87650\n",
      "could not make column PriceArea into float, type: <class 'str'>\n",
      "could not make column GrossCon into float, type: <class 'str'>\n",
      "Replacing NULL in 2 places with 0 in GrossCon\n",
      "Replacing nans in 0 places with 0 in GrossCon\n",
      "Added two new columns for GrossCon, with DK1 and DK2 partitions\n",
      "New dataframe has 43825 rows\n",
      "\n",
      "--------\n",
      "Data object contains:\n",
      "43825 data points\n",
      "from 2013-09-01 00:00:00 to 2018-09-01 00:00:00\n",
      "Minimum time step: 0.0 sec\n",
      "Maximum time step: 7200.0 sec\n",
      "Most common time step: 3600.0 sec\n",
      "--------\n"
     ]
    },
    {
     "data": {
      "text/plain": [
       "(Timestamp('2013-09-01 00:00:00'), Timestamp('2018-09-01 00:00:00'))"
      ]
     },
     "execution_count": 5,
     "metadata": {},
     "output_type": "execute_result"
    }
   ],
   "source": [
    "file_path = \"../../data/Energinet/1hour/\"\n",
    "power_ob2 = wp.PowerData() # for Electricity Balance Data\n",
    "df_cols1 = ['Minutes5DK', 'PriceArea', 'GrossCon']\n",
    "col_indices1 = [1,2,3]\n",
    "raw_data_names1 = [\"Electricity_Balance_Data_2013-2018.xml\"]\n",
    "power_ob2.AddData(file_path=file_path,raw_data_names=raw_data_names1,df_cols=df_cols1,col_indices=col_indices1,time='Minutes5DK')\n",
    "power_ob2.FillNansNULLS(col_name='GrossCon')\n",
    "power_ob2.SplitData('PriceArea','DK1','DK2')\n",
    "power_ob2.info()"
   ]
  },
  {
   "cell_type": "markdown",
   "metadata": {},
   "source": [
    "Combine and save data"
   ]
  },
  {
   "cell_type": "code",
   "execution_count": 6,
   "metadata": {},
   "outputs": [
    {
     "name": "stdout",
     "output_type": "stream",
     "text": [
      "Using method: merge\n",
      "Length of dataframe 1: 67920\n",
      "Length of dataframe 2: 43825\n",
      "Combined data over common time period from 2011-01-01 00:00:00 to 2018-09-30 23:00:00\n",
      "67925 datapoints\n"
     ]
    }
   ],
   "source": [
    "power_ob = wp.CombPowerData(ob_1=power_ob1,ob_2=power_ob2,method='merge')"
   ]
  },
  {
   "cell_type": "code",
   "execution_count": 10,
   "metadata": {},
   "outputs": [
    {
     "name": "stdout",
     "output_type": "stream",
     "text": [
      "Column TotalResLoad already exists in dataframe\n",
      "Column TotalResLoad_DK1 already exists in dataframe\n",
      "Column TotalResLoad_DK2 already exists in dataframe\n",
      "Found duplicates at:\n",
      "2013-10-27 02:00:00\n",
      "2014-10-26 02:00:00\n",
      "2015-10-25 02:00:00\n",
      "2016-10-30 02:00:00\n",
      "2017-10-29 02:00:00\n",
      "\n",
      "--------\n",
      "Data object contains:\n",
      "67920 data points\n",
      "from 2011-01-01 00:00:00 to 2018-09-30 23:00:00\n",
      "Minimum time step: 3600.0 sec\n",
      "Maximum time step: 3600.0 sec\n",
      "Most common time step: 3600.0 sec\n",
      "--------\n"
     ]
    },
    {
     "data": {
      "text/plain": [
       "(Timestamp('2011-01-01 00:00:00'), Timestamp('2018-09-30 23:00:00'))"
      ]
     },
     "execution_count": 10,
     "metadata": {},
     "output_type": "execute_result"
    }
   ],
   "source": [
    "# Residual load\n",
    "array = power_ob.data_df['GrossCon'].values - power_ob.data_df['TotalRenPower'].values\n",
    "power_ob.AddColumnToData('TotalResLoad',array)\n",
    "array = power_ob.data_df['GrossCon_DK1'].values - power_ob.data_df['TotalRenPower_DK1'].values\n",
    "power_ob.AddColumnToData('TotalResLoad_DK1',array)\n",
    "array = power_ob.data_df['GrossCon_DK2'].values - power_ob.data_df['TotalRenPower_DK2'].values\n",
    "power_ob.AddColumnToData('TotalResLoad_DK2',array)\n",
    "power_ob.RemoveDuplicateTimes(col_name='datetime')\n",
    "power_ob.info()"
   ]
  },
  {
   "cell_type": "code",
   "execution_count": 11,
   "metadata": {},
   "outputs": [
    {
     "data": {
      "text/html": [
       "<div>\n",
       "<style scoped>\n",
       "    .dataframe tbody tr th:only-of-type {\n",
       "        vertical-align: middle;\n",
       "    }\n",
       "\n",
       "    .dataframe tbody tr th {\n",
       "        vertical-align: top;\n",
       "    }\n",
       "\n",
       "    .dataframe thead th {\n",
       "        text-align: right;\n",
       "    }\n",
       "</style>\n",
       "<table border=\"1\" class=\"dataframe\">\n",
       "  <thead>\n",
       "    <tr style=\"text-align: right;\">\n",
       "      <th></th>\n",
       "      <th>datetime</th>\n",
       "      <th>OffshoreWindPower_DK1</th>\n",
       "      <th>OffshoreWindPower_DK2</th>\n",
       "      <th>OffshoreWindPower</th>\n",
       "      <th>OnshoreWindPower_DK1</th>\n",
       "      <th>OnshoreWindPower_DK2</th>\n",
       "      <th>OnshoreWindPower</th>\n",
       "      <th>SolarPower_DK1</th>\n",
       "      <th>SolarPower_DK2</th>\n",
       "      <th>SolarPower</th>\n",
       "      <th>...</th>\n",
       "      <th>TotalRenPower_DK1</th>\n",
       "      <th>TotalRenPower_DK2</th>\n",
       "      <th>GrossCon</th>\n",
       "      <th>GrossCon_DK1</th>\n",
       "      <th>GrossCon_DK2</th>\n",
       "      <th>delta_time</th>\n",
       "      <th>time_steps</th>\n",
       "      <th>TotalResLoad</th>\n",
       "      <th>TotalResLoad_DK1</th>\n",
       "      <th>TotalResLoad_DK2</th>\n",
       "    </tr>\n",
       "  </thead>\n",
       "  <tbody>\n",
       "    <tr>\n",
       "      <th>0</th>\n",
       "      <td>2011-01-01 00:00:00</td>\n",
       "      <td>618.093464</td>\n",
       "      <td>204.306536</td>\n",
       "      <td>822.4</td>\n",
       "      <td>1926.581694</td>\n",
       "      <td>636.818306</td>\n",
       "      <td>2563.4</td>\n",
       "      <td>0.0</td>\n",
       "      <td>0.0</td>\n",
       "      <td>0.0</td>\n",
       "      <td>...</td>\n",
       "      <td>2544.675157</td>\n",
       "      <td>841.124843</td>\n",
       "      <td>-1.0</td>\n",
       "      <td>-1.0</td>\n",
       "      <td>-1.0</td>\n",
       "      <td>0.0</td>\n",
       "      <td>3600.0</td>\n",
       "      <td>-3386.8</td>\n",
       "      <td>-2545.675157</td>\n",
       "      <td>-842.124843</td>\n",
       "    </tr>\n",
       "    <tr>\n",
       "      <th>1</th>\n",
       "      <td>2011-01-01 01:00:00</td>\n",
       "      <td>621.428703</td>\n",
       "      <td>208.871297</td>\n",
       "      <td>830.3</td>\n",
       "      <td>1883.371297</td>\n",
       "      <td>633.028703</td>\n",
       "      <td>2516.4</td>\n",
       "      <td>0.0</td>\n",
       "      <td>0.0</td>\n",
       "      <td>0.0</td>\n",
       "      <td>...</td>\n",
       "      <td>2504.800000</td>\n",
       "      <td>841.900000</td>\n",
       "      <td>-1.0</td>\n",
       "      <td>-1.0</td>\n",
       "      <td>-1.0</td>\n",
       "      <td>3600.0</td>\n",
       "      <td>3600.0</td>\n",
       "      <td>-3347.7</td>\n",
       "      <td>-2505.800000</td>\n",
       "      <td>-842.900000</td>\n",
       "    </tr>\n",
       "    <tr>\n",
       "      <th>2</th>\n",
       "      <td>2011-01-01 02:00:00</td>\n",
       "      <td>615.024796</td>\n",
       "      <td>214.975204</td>\n",
       "      <td>830.0</td>\n",
       "      <td>1760.675204</td>\n",
       "      <td>615.424796</td>\n",
       "      <td>2376.1</td>\n",
       "      <td>0.0</td>\n",
       "      <td>0.0</td>\n",
       "      <td>0.0</td>\n",
       "      <td>...</td>\n",
       "      <td>2375.700000</td>\n",
       "      <td>830.400000</td>\n",
       "      <td>-1.0</td>\n",
       "      <td>-1.0</td>\n",
       "      <td>-1.0</td>\n",
       "      <td>7200.0</td>\n",
       "      <td>3600.0</td>\n",
       "      <td>-3207.1</td>\n",
       "      <td>-2376.700000</td>\n",
       "      <td>-831.400000</td>\n",
       "    </tr>\n",
       "    <tr>\n",
       "      <th>3</th>\n",
       "      <td>2011-01-01 03:00:00</td>\n",
       "      <td>613.623262</td>\n",
       "      <td>215.176738</td>\n",
       "      <td>828.8</td>\n",
       "      <td>1744.176738</td>\n",
       "      <td>611.623262</td>\n",
       "      <td>2355.8</td>\n",
       "      <td>0.0</td>\n",
       "      <td>0.0</td>\n",
       "      <td>0.0</td>\n",
       "      <td>...</td>\n",
       "      <td>2357.800000</td>\n",
       "      <td>826.800000</td>\n",
       "      <td>-1.0</td>\n",
       "      <td>-1.0</td>\n",
       "      <td>-1.0</td>\n",
       "      <td>10800.0</td>\n",
       "      <td>3600.0</td>\n",
       "      <td>-3185.6</td>\n",
       "      <td>-2358.800000</td>\n",
       "      <td>-827.800000</td>\n",
       "    </tr>\n",
       "    <tr>\n",
       "      <th>4</th>\n",
       "      <td>2011-01-01 04:00:00</td>\n",
       "      <td>609.550003</td>\n",
       "      <td>211.949997</td>\n",
       "      <td>821.5</td>\n",
       "      <td>1749.849997</td>\n",
       "      <td>608.450003</td>\n",
       "      <td>2358.3</td>\n",
       "      <td>0.0</td>\n",
       "      <td>0.0</td>\n",
       "      <td>0.0</td>\n",
       "      <td>...</td>\n",
       "      <td>2359.400000</td>\n",
       "      <td>820.400000</td>\n",
       "      <td>-1.0</td>\n",
       "      <td>-1.0</td>\n",
       "      <td>-1.0</td>\n",
       "      <td>14400.0</td>\n",
       "      <td>3600.0</td>\n",
       "      <td>-3180.8</td>\n",
       "      <td>-2360.400000</td>\n",
       "      <td>-821.400000</td>\n",
       "    </tr>\n",
       "  </tbody>\n",
       "</table>\n",
       "<p>5 rows × 26 columns</p>\n",
       "</div>"
      ],
      "text/plain": [
       "             datetime  OffshoreWindPower_DK1  OffshoreWindPower_DK2  \\\n",
       "0 2011-01-01 00:00:00             618.093464             204.306536   \n",
       "1 2011-01-01 01:00:00             621.428703             208.871297   \n",
       "2 2011-01-01 02:00:00             615.024796             214.975204   \n",
       "3 2011-01-01 03:00:00             613.623262             215.176738   \n",
       "4 2011-01-01 04:00:00             609.550003             211.949997   \n",
       "\n",
       "   OffshoreWindPower  OnshoreWindPower_DK1  OnshoreWindPower_DK2  \\\n",
       "0              822.4           1926.581694            636.818306   \n",
       "1              830.3           1883.371297            633.028703   \n",
       "2              830.0           1760.675204            615.424796   \n",
       "3              828.8           1744.176738            611.623262   \n",
       "4              821.5           1749.849997            608.450003   \n",
       "\n",
       "   OnshoreWindPower  SolarPower_DK1  SolarPower_DK2  SolarPower  \\\n",
       "0            2563.4             0.0             0.0         0.0   \n",
       "1            2516.4             0.0             0.0         0.0   \n",
       "2            2376.1             0.0             0.0         0.0   \n",
       "3            2355.8             0.0             0.0         0.0   \n",
       "4            2358.3             0.0             0.0         0.0   \n",
       "\n",
       "         ...         TotalRenPower_DK1  TotalRenPower_DK2  GrossCon  \\\n",
       "0        ...               2544.675157         841.124843      -1.0   \n",
       "1        ...               2504.800000         841.900000      -1.0   \n",
       "2        ...               2375.700000         830.400000      -1.0   \n",
       "3        ...               2357.800000         826.800000      -1.0   \n",
       "4        ...               2359.400000         820.400000      -1.0   \n",
       "\n",
       "   GrossCon_DK1  GrossCon_DK2  delta_time  time_steps  TotalResLoad  \\\n",
       "0          -1.0          -1.0         0.0      3600.0       -3386.8   \n",
       "1          -1.0          -1.0      3600.0      3600.0       -3347.7   \n",
       "2          -1.0          -1.0      7200.0      3600.0       -3207.1   \n",
       "3          -1.0          -1.0     10800.0      3600.0       -3185.6   \n",
       "4          -1.0          -1.0     14400.0      3600.0       -3180.8   \n",
       "\n",
       "   TotalResLoad_DK1  TotalResLoad_DK2  \n",
       "0      -2545.675157       -842.124843  \n",
       "1      -2505.800000       -842.900000  \n",
       "2      -2376.700000       -831.400000  \n",
       "3      -2358.800000       -827.800000  \n",
       "4      -2360.400000       -821.400000  \n",
       "\n",
       "[5 rows x 26 columns]"
      ]
     },
     "execution_count": 11,
     "metadata": {},
     "output_type": "execute_result"
    }
   ],
   "source": [
    "wp.aux.SaveData(power_ob.data_df,file_path='data/',file_name='DK1_DK2_power_cons_1hour')\n",
    "power_ob.data_df.head()"
   ]
  },
  {
   "cell_type": "code",
   "execution_count": null,
   "metadata": {},
   "outputs": [],
   "source": []
  }
 ],
 "metadata": {
  "kernelspec": {
   "display_name": "Python 3",
   "language": "python",
   "name": "python3"
  },
  "language_info": {
   "codemirror_mode": {
    "name": "ipython",
    "version": 3
   },
   "file_extension": ".py",
   "mimetype": "text/x-python",
   "name": "python",
   "nbconvert_exporter": "python",
   "pygments_lexer": "ipython3",
   "version": "3.6.5"
  }
 },
 "nbformat": 4,
 "nbformat_minor": 2
}
